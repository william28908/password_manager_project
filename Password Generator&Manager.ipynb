{
 "cells": [
  {
   "cell_type": "code",
   "execution_count": 18,
   "id": "679a7439-bc3d-42f8-b8ff-458111e7ad7d",
   "metadata": {},
   "outputs": [],
   "source": [
    "import string\n",
    "import random\n",
    "\n",
    "def add_row(website_name, username, password):\n",
    "    import mysql.connector\n",
    "    \n",
    "    mydb = mysql.connector.connect(host = 'localhost', user = 'root', password = 'PLACEHOLDER_PASSWORD', database = 'password_manager', use_pure = True)\n",
    "    \n",
    "    mycursor = mydb.cursor()\n",
    "\n",
    "    # Inserting values\n",
    "    sql = '''INSERT INTO username_and_password (website_name, username, password) VALUES (%s, %s, %s)'''\n",
    "    val = (website_name, username, password)\n",
    "    mycursor.execute(sql, val)\n",
    "\n",
    "    mydb.commit()\n",
    "\n",
    "    print(mycursor.rowcount, \"record inserted.\")\n",
    "\n",
    "    mydb.close()\n",
    "\n",
    "def create_password():\n",
    "    all_characters = \"\"\n",
    "    all_characters += string.ascii_letters\n",
    "    all_characters += string.digits\n",
    "    all_characters += string.punctuation\n",
    "\n",
    "    # Iterating through banned and all characters and skipping the characters that are \n",
    "    # banned while adding the allowed ones\n",
    "    # to the all_allowed_characters variable\n",
    "    all_allowed_characters = \"\"\n",
    "    length = int(input('What is the upper length of the password requirement: '))\n",
    "    banned_characters = input('Enter all characters that are not allowed (i.e *!?>): ')\n",
    "    skip_or_not = False\n",
    "    for character in all_characters:\n",
    "        for banned_character in banned_characters:\n",
    "            if character == banned_character:\n",
    "                skip_or_not = True\n",
    "                break\n",
    "            else:\n",
    "                skip_or_not = False\n",
    "        if skip_or_not == True:\n",
    "            continue\n",
    "        else:\n",
    "            all_allowed_characters += character\n",
    "\n",
    "    password = \"\"\n",
    "    for i in range(length):\n",
    "        password += random.choice(all_allowed_characters)\n",
    "\n",
    "    return password\n",
    "\n",
    "    \n",
    "def update_record(password, website_name):\n",
    "    import mysql.connector\n",
    "    \n",
    "    mydb = mysql.connector.connect(host = 'localhost', user = 'root', password = 'PLACEHOLDER_PASSWORD', database = 'password_manager', use_pure = True)\n",
    "    \n",
    "    mycursor = mydb.cursor()\n",
    "\n",
    "    # Inserting values\n",
    "    sql = \"UPDATE username_and_password SET password = %s WHERE website_name = %s\"\n",
    "    val = (password, website_name)\n",
    "    mycursor.execute(sql, val)\n",
    "\n",
    "    mydb.commit()\n",
    "\n",
    "    print(mycursor.rowcount, \"record updated.\")\n",
    "\n",
    "    mydb.close()\n",
    "\n",
    "def delete_record(website_name):\n",
    "    import mysql.connector\n",
    "    \n",
    "    mydb = mysql.connector.connect(host = 'localhost', user = 'root', password = 'Sceptile28908', database = 'password_manager', use_pure = True)\n",
    "    \n",
    "    mycursor = mydb.cursor()\n",
    "\n",
    "    sql = \"DELETE FROM username_and_password WHERE website_name = %s\"\n",
    "    val = website_name\n",
    "    mycursor.execute(sql, (val,))\n",
    "\n",
    "    mydb.commit()\n",
    "\n",
    "    print(mycursor.rowcount, \"record deleted.\")\n",
    "\n",
    "    mydb.close()\n",
    "\n",
    "def view_records():\n",
    "    import mysql.connector\n",
    "    \n",
    "    mydb = mysql.connector.connect(host = 'localhost', user = 'root', password = 'PLACEHOLDER_PASSWORD', database = 'password_manager', use_pure = True)\n",
    "    \n",
    "    mycursor = mydb.cursor()\n",
    "\n",
    "    # Inserting values\n",
    "    sql = \"SELECT * FROM username_and_password\"\n",
    "    mycursor.execute(sql)\n",
    "\n",
    "    records = mycursor.fetchall()\n",
    "    if len(records) == 0:\n",
    "        print('There are no records')\n",
    "    else:\n",
    "        for row in records:\n",
    "            print(row)\n",
    "\n",
    "    mydb.close()"
   ]
  },
  {
   "cell_type": "code",
   "execution_count": 21,
   "id": "9934269c-02c7-40a8-98c4-c16203d52b1e",
   "metadata": {},
   "outputs": [
    {
     "name": "stdin",
     "output_type": "stream",
     "text": [
      "Would you like to (a)dd a record, (u)pdate a record, (d)elete a record, (v)iew a record, or (q)uit:  v\n"
     ]
    },
    {
     "name": "stdout",
     "output_type": "stream",
     "text": [
      "There are no records\n"
     ]
    },
    {
     "name": "stdin",
     "output_type": "stream",
     "text": [
      "Would you like to (a)dd a record, (u)pdate a record, (d)elete a record, (v)iew a record, or (q)uit:  a\n",
      "Would you like to enter an (e)xisting password or would you like to (c)reate a new one:  e\n",
      "How many entries would you like to add (please enter a whole number):  2\n",
      "Please enter the name of the website where you have created your password in:  YouTube\n",
      "Please enter the username you created for the website:  username_example1\n",
      "Please enter the existing password:  password_example1\n"
     ]
    },
    {
     "name": "stdout",
     "output_type": "stream",
     "text": [
      "1 record inserted.\n"
     ]
    },
    {
     "name": "stdin",
     "output_type": "stream",
     "text": [
      "Please enter the name of the website where you have created your password in:  Facebook\n",
      "Please enter the username you created for the website:  username_example2\n",
      "Please enter the existing password:  password_example2\n"
     ]
    },
    {
     "name": "stdout",
     "output_type": "stream",
     "text": [
      "1 record inserted.\n"
     ]
    },
    {
     "name": "stdin",
     "output_type": "stream",
     "text": [
      "Would you like to (a)dd a record, (u)pdate a record, (d)elete a record, (v)iew a record, or (q)uit:  v\n"
     ]
    },
    {
     "name": "stdout",
     "output_type": "stream",
     "text": [
      "('YouTube', 'username_example1', 'password_example1')\n",
      "('Facebook', 'username_example2', 'password_example2')\n"
     ]
    },
    {
     "name": "stdin",
     "output_type": "stream",
     "text": [
      "Would you like to (a)dd a record, (u)pdate a record, (d)elete a record, (v)iew a record, or (q)uit:  a\n",
      "Would you like to enter an (e)xisting password or would you like to (c)reate a new one:  c\n",
      "Please enter the name of the website where you have created your password in:  Instagram\n",
      "Please enter the username you created for the website:  username_example3\n",
      "What is the upper length of the password requirement:  14\n",
      "Enter all characters that are not allowed (i.e *!?>):  (){}[]|`¬¦! \"£$%^&*\"<>:;#~_-+=,@\n"
     ]
    },
    {
     "name": "stdout",
     "output_type": "stream",
     "text": [
      "1 record inserted.\n"
     ]
    },
    {
     "name": "stdin",
     "output_type": "stream",
     "text": [
      "Would you like to (a)dd a record, (u)pdate a record, (d)elete a record, (v)iew a record, or (q)uit:  v\n"
     ]
    },
    {
     "name": "stdout",
     "output_type": "stream",
     "text": [
      "('YouTube', 'username_example1', 'password_example1')\n",
      "('Facebook', 'username_example2', 'password_example2')\n",
      "('Instagram', 'username_example3', '7k8qGxtYjy?9ps')\n"
     ]
    },
    {
     "name": "stdin",
     "output_type": "stream",
     "text": [
      "Would you like to (a)dd a record, (u)pdate a record, (d)elete a record, (v)iew a record, or (q)uit:  u\n",
      "Would you like to enter a password (y)ou created or would you like the (p)rogram to create one:  p\n",
      "Enter the name of the website whose record will be changed:  YouTube\n",
      "What is the upper length of the password requirement:  12\n",
      "Enter all characters that are not allowed (i.e *!?>):  ?\"$[\\]+\n"
     ]
    },
    {
     "name": "stdout",
     "output_type": "stream",
     "text": [
      "1 record updated.\n"
     ]
    },
    {
     "name": "stdin",
     "output_type": "stream",
     "text": [
      "Would you like to (a)dd a record, (u)pdate a record, (d)elete a record, (v)iew a record, or (q)uit:  v\n"
     ]
    },
    {
     "name": "stdout",
     "output_type": "stream",
     "text": [
      "('YouTube', 'username_example1', \"j<hnF{^'PF#1\")\n",
      "('Facebook', 'username_example2', 'password_example2')\n",
      "('Instagram', 'username_example3', '7k8qGxtYjy?9ps')\n"
     ]
    },
    {
     "name": "stdin",
     "output_type": "stream",
     "text": [
      "Would you like to (a)dd a record, (u)pdate a record, (d)elete a record, (v)iew a record, or (q)uit:  d\n",
      "Enter the website name where you want all of the information deleted Facebook\n"
     ]
    },
    {
     "name": "stdout",
     "output_type": "stream",
     "text": [
      "1 record deleted.\n"
     ]
    },
    {
     "name": "stdin",
     "output_type": "stream",
     "text": [
      "Would you like to (a)dd a record, (u)pdate a record, (d)elete a record, (v)iew a record, or (q)uit:  v\n"
     ]
    },
    {
     "name": "stdout",
     "output_type": "stream",
     "text": [
      "('YouTube', 'username_example1', \"j<hnF{^'PF#1\")\n",
      "('Instagram', 'username_example3', '7k8qGxtYjy?9ps')\n"
     ]
    },
    {
     "name": "stdin",
     "output_type": "stream",
     "text": [
      "Would you like to (a)dd a record, (u)pdate a record, (d)elete a record, (v)iew a record, or (q)uit:  q\n"
     ]
    }
   ],
   "source": [
    "while True:\n",
    "    user_choice = input('Would you like to (a)dd a record, (u)pdate a record, (d)elete a record, (v)iew a record, or (q)uit: ').lower()\n",
    "\n",
    "    if user_choice == 'a':\n",
    "        existing_or_new = input('Would you like to enter an (e)xisting password or would you like to (c)reate a new one: ')\n",
    "        if existing_or_new == 'e':\n",
    "            quantity_to_insert = int(input('How many entries would you like to add (please enter a whole number): '))\n",
    "            for i in range(quantity_to_insert):\n",
    "                website_name = input('Please enter the name of the website where you have created your password in: ')\n",
    "                website_username = input('Please enter the username you created for the website: ')\n",
    "                website_existing_password = input('Please enter the existing password: ')\n",
    "                add_row(website_name, website_username, website_existing_password)\n",
    "        else:\n",
    "            website_name = input('Please enter the name of the website where you have created your password in: ')\n",
    "            website_username = input('Please enter the username you created for the website: ')\n",
    "            new_password = create_password()\n",
    "            add_row(website_name, website_username, new_password)\n",
    "    elif user_choice == 'u':\n",
    "        old_new = input('Would you like to enter a password (y)ou created or would you like the (p)rogram to create one: ')\n",
    "        if old_new == 'y':\n",
    "            website_name = input('Enter the name of the website whose record will be changed: ')\n",
    "            new_password = input('Enter new password: ')\n",
    "            update_record(new_password, website_name)\n",
    "        else:\n",
    "            website_name = input('Enter the name of the website whose record will be changed: ')\n",
    "            new_password = create_password()\n",
    "            update_record(new_password, website_name)\n",
    "    elif user_choice == 'd':\n",
    "        website_name = input('Enter the website name where you want all of the information deleted')\n",
    "        delete_record(website_name)\n",
    "    elif user_choice == 'v':\n",
    "        view_records()\n",
    "    else:\n",
    "        break\n",
    "    "
   ]
  },
  {
   "cell_type": "code",
   "execution_count": null,
   "id": "4f06e5ce-d0b9-452a-8e53-bcf7b48b2352",
   "metadata": {},
   "outputs": [],
   "source": []
  }
 ],
 "metadata": {
  "kernelspec": {
   "display_name": "Python 3 (ipykernel)",
   "language": "python",
   "name": "python3"
  },
  "language_info": {
   "codemirror_mode": {
    "name": "ipython",
    "version": 3
   },
   "file_extension": ".py",
   "mimetype": "text/x-python",
   "name": "python",
   "nbconvert_exporter": "python",
   "pygments_lexer": "ipython3",
   "version": "3.11.7"
  }
 },
 "nbformat": 4,
 "nbformat_minor": 5
}
